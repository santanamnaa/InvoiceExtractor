{
 "cells": [
  {
   "cell_type": "markdown",
   "id": "bf757ae1",
   "metadata": {},
   "source": [
    "# Invoice Extraction Model Training\n",
    "\n",
    "This notebook implements training for layout-aware invoice extraction models with minimum 20 training iterations.\n",
    "## Training Architecture\n",
    "- **Hybrid Approach**: Regex + Machine Learning NER\n",
    "- **Layout-aware Features**: Position and bounding box information\n",
    "- **Indonesian Tokenization**: Custom tokenizer for Indonesian text\n",
    "- **Early Stopping**: Monitor F1-score validation with patience\n",
    "- **Learning Rate Scheduling**: Adaptive learning rate"
   ]
  },
  {
   "cell_type": "code",
   "execution_count": 13,
   "id": "170e4e6b",
   "metadata": {},
   "outputs": [
    {
     "name": "stdout",
     "output_type": "stream",
     "text": [
      "✓ Model training notebook initialized\n",
      "✓ Working directory: /Users/santana_mena/Desktop/PROGRAMMING/TELKOM SIGMA/barunih/InvoiceExtractor/notebooks\n"
     ]
    }
   ],
   "source": [
    "import sys\n",
    "import os\n",
    "import json\n",
    "import numpy as np\n",
    "import pandas as pd\n",
    "import matplotlib.pyplot as plt\n",
    "import seaborn as sns\n",
    "from sklearn.feature_extraction.text import TfidfVectorizer\n",
    "from sklearn.linear_model import LogisticRegression\n",
    "from sklearn.ensemble import RandomForestClassifier\n",
    "from sklearn.metrics import classification_report, f1_score, precision_recall_fscore_support\n",
    "from sklearn.preprocessing import LabelEncoder\n",
    "import warnings\n",
    "warnings.filterwarnings('ignore')\n",
    "\n",
    "# Add parent directory to path\n",
    "sys.path.append('..')\n",
    "from extraction_service import InvoiceExtractor\n",
    "\n",
    "print(\"✓ Model training notebook initialized\")\n",
    "print(f\"✓ Working directory: {os.getcwd()}\")\n"
   ]
  },
  {
   "cell_type": "markdown",
   "id": "5f2d0ca4",
   "metadata": {},
   "source": [
    "## 1. Load Prepared Data\n"
   ]
  },
  {
   "cell_type": "code",
   "execution_count": 16,
   "id": "394572e0",
   "metadata": {},
   "outputs": [
    {
     "name": "stdout",
     "output_type": "stream",
     "text": [
      "✓ Loaded dataset with 300 samples\n",
      "✓ Entity types: 20\n",
      "✓ Unique labels: 16\n"
     ]
    }
   ],
   "source": [
    "with open('../data/augmented_dataset.json', 'r', encoding='utf-8') as f:\n",
    "    dataset = json.load(f)\n",
    "with open('../data/metadata.json', 'r', encoding='utf-8') as f:\n",
    "    metadata = json.load(f)\n",
    "with open('../data/label_distribution.json', 'r', encoding='utf-8') as f:\n",
    "    label_distribution = json.load(f)\n",
    "\n",
    "print(f\"✓ Loaded dataset with {len(dataset)} samples\")\n",
    "print(f\"✓ Entity types: {len(metadata['entity_types'])}\")\n",
    "print(f\"✓ Unique labels: {len(metadata['unique_labels'])}\")\n"
   ]
  },
  {
   "cell_type": "markdown",
   "id": "527147e6",
   "metadata": {},
   "source": [
    "## 2. Indonesian Custom Tokenizer"
   ]
  },
  {
   "cell_type": "code",
   "execution_count": 17,
   "id": "24de3f4c",
   "metadata": {},
   "outputs": [
    {
     "name": "stdout",
     "output_type": "stream",
     "text": [
      "✓ Sample tokenization:\n",
      "   Original: INVOICE NO: INV-1556-832 DATE: 10/01/2024 PT TELKOM INDONESIA NPWP: 01.85.-601.1--151.797 TOTAL: 643 ...\n",
      "   Tokens: ['INVOICE', 'NO', ':', 'INV', '-', '1556', '-', '832', 'DATE', ':'] ...\n",
      "   Token count: 35\n"
     ]
    }
   ],
   "source": [
    "# %%\n",
    "import re\n",
    "from typing import List, Dict, Tuple\n",
    "\n",
    "class IndonesianTokenizer:\n",
    "    \"\"\"Custom tokenizer for Indonesian invoice documents\"\"\"\n",
    "    def __init__(self):\n",
    "        self.currency_pattern = r'(?:Rp\\.?|IDR|Rupiah)\\s*[\\d,\\.]+'\n",
    "        self.date_pattern     = r'\\d{1,2}[\\-/]\\d{1,2}[\\-/]\\d{2,4}'\n",
    "        self.npwp_pattern     = r'\\d{2}\\.\\d{3}\\.\\d{3}\\.\\d{1}-\\d{3}\\.\\d{3}'\n",
    "        self.company_pattern  = r'(?:PT|CV|UD)\\s+[A-Z\\s]+'\n",
    "        self.stopwords = {\n",
    "            'dan','atau','yang','untuk','dengan','dari','pada','ke','di','dalam',\n",
    "            'adalah','akan','sudah','telah','dapat','harus','bisa','tidak','belum'\n",
    "        }\n",
    "\n",
    "    def tokenize(self, text: str) -> List[str]:\n",
    "        special_tokens = []\n",
    "        processed_text = text\n",
    "        patterns = [\n",
    "            (self.currency_pattern, 'CURRENCY_TOKEN'),\n",
    "            (self.date_pattern,     'DATE_TOKEN'),\n",
    "            (self.npwp_pattern,     'NPWP_TOKEN'),\n",
    "            (self.company_pattern,  'COMPANY_TOKEN')\n",
    "        ]\n",
    "        for pattern, token_type in patterns:\n",
    "            for match in re.finditer(pattern, processed_text):\n",
    "                placeholder = f'<{token_type}_{len(special_tokens)}>'\n",
    "                special_tokens.append((placeholder, match.group()))\n",
    "                processed_text = processed_text.replace(match.group(), placeholder, 1)\n",
    "\n",
    "        tokens = re.findall(r'\\b\\w+\\b|[^\\w\\s]', processed_text)\n",
    "        for placeholder, original in special_tokens:\n",
    "            tokens = [original if t == placeholder else t for t in tokens]\n",
    "        return tokens\n",
    "\n",
    "    def preprocess_for_training(self,\n",
    "        samples: List[Dict]\n",
    "    ) -> Tuple[List[List[str]], List[List[str]]]:\n",
    "        X, y = [], []\n",
    "        for sample in samples:\n",
    "            tokens = self.tokenize(sample['text'])\n",
    "            labels = sample['labels'][:len(tokens)]\n",
    "            while len(labels) < len(tokens):\n",
    "                labels.append('O')\n",
    "            X.append(tokens)\n",
    "            y.append(labels)\n",
    "        return X, y\n",
    "\n",
    "tokenizer = IndonesianTokenizer()\n",
    "sample_text = dataset[0]['text']\n",
    "tokens = tokenizer.tokenize(sample_text)\n",
    "print(\"✓ Sample tokenization:\")\n",
    "print(\"   Original:\", sample_text[:100], \"...\")\n",
    "print(\"   Tokens:\", tokens[:10], \"...\")\n",
    "print(\"   Token count:\", len(tokens))\n"
   ]
  },
  {
   "cell_type": "markdown",
   "id": "cce99705",
   "metadata": {},
   "source": [
    "## 3. Feature Engineering for Layout-Aware Training\n"
   ]
  },
  {
   "cell_type": "code",
   "execution_count": 21,
   "id": "df627efb",
   "metadata": {},
   "outputs": [
    {
     "name": "stdout",
     "output_type": "stream",
     "text": [
      "✓ Feature extraction completed\n",
      "   - Feature matrix shape: (9387, 21)\n",
      "   - Labels shape: (9387,)\n",
      "   - Unique labels: 16\n"
     ]
    }
   ],
   "source": [
    "class LayoutAwareFeatureExtractor:\n",
    "    \"\"\"Extract layout-aware features for invoice text\"\"\"\n",
    "    def __init__(self):\n",
    "        self.tfidf = TfidfVectorizer(max_features=1000, ngram_range=(1,2))\n",
    "        self.label_encoder = LabelEncoder()\n",
    "\n",
    "    def extract_features(self,\n",
    "        tokens: List[str],\n",
    "        position_idx: int = 0\n",
    "    ) -> Dict[str,float]:\n",
    "        if position_idx>=len(tokens): return {}\n",
    "        token = tokens[position_idx]\n",
    "        features = {\n",
    "            'token_length':       len(token),\n",
    "            'is_numeric':         float(token.isdigit()),\n",
    "            'is_alpha':           float(token.isalpha()),\n",
    "            'is_alphanumeric':    float(token.isalnum()),\n",
    "            'is_upper':           float(token.isupper()),\n",
    "            'is_lower':           float(token.islower()),\n",
    "            'is_title':           float(token.istitle()),\n",
    "            'relative_position':  position_idx/len(tokens),\n",
    "            'is_beginning':       float(position_idx<3),\n",
    "            'is_end':             float(position_idx>len(tokens)-3),\n",
    "            'is_middle':          float(0.3<=position_idx/len(tokens)<=0.7),\n",
    "            'contains_digit':     float(any(c.isdigit() for c in token)),\n",
    "            'contains_punct':     float(any(c in '.,:-/\\\\' for c in token)),\n",
    "            'is_currency_like':   float(re.match(r'.*[Rr]p.*|.*IDR.*|.*\\d+[,\\.]\\d+.*', token) is not None),\n",
    "            'is_date_like':       float(re.match(r'\\d{1,2}[\\-/]\\d{1,2}[\\-/]\\d{2,4}', token) is not None),\n",
    "            'is_npwp_like':       float(re.match(r'\\d{2}\\.\\d{3}\\.\\d{3}\\.\\d{1}-\\d{3}\\.\\d{3}', token) is not None),\n",
    "        }\n",
    "        prev = tokens[position_idx-1] if position_idx>0 else ''\n",
    "        nxt  = tokens[position_idx+1] if position_idx<len(tokens)-1 else ''\n",
    "        features.update({\n",
    "            'prev_is_numeric': float(prev.isdigit()),\n",
    "            'prev_is_punct':   float(prev in '.,:-'),\n",
    "            'next_is_numeric': float(nxt.isdigit()),\n",
    "            'next_is_punct':   float(nxt in '.,:-'),\n",
    "            'is_indonesian_keyword': float(token.lower() in\n",
    "                ['invoice','faktur','tagihan','pembayaran','total','jumlah','npwp','pajak'])\n",
    "        })\n",
    "        return features\n",
    "\n",
    "    def prepare_training_data(self,\n",
    "        X_tokens: List[List[str]],\n",
    "        y_labels: List[List[str]]\n",
    "    ) -> Tuple[np.ndarray,np.ndarray]:\n",
    "        feats, labs = [], []\n",
    "        for tokens, labels in zip(X_tokens, y_labels):\n",
    "            for i, lbl in enumerate(labels):\n",
    "                fdict = self.extract_features(tokens,i)\n",
    "                feats.append(list(fdict.values()))\n",
    "                labs.append(lbl)\n",
    "        X = np.array(feats)\n",
    "        y = self.label_encoder.fit_transform(labs)\n",
    "        return X, y\n",
    "\n",
    "feature_extractor = LayoutAwareFeatureExtractor()\n",
    "X_tokens, y_labels = tokenizer.preprocess_for_training(dataset)\n",
    "X_features, y_encoded = feature_extractor.prepare_training_data(X_tokens,y_labels)\n",
    "\n",
    "print(\"✓ Feature extraction completed\")\n",
    "print(f\"   - Feature matrix shape: {X_features.shape}\")\n",
    "print(f\"   - Labels shape: {y_encoded.shape}\")\n",
    "print(f\"   - Unique labels: {len(feature_extractor.label_encoder.classes_)}\")\n"
   ]
  },
  {
   "cell_type": "markdown",
   "id": "239914c6",
   "metadata": {},
   "source": [
    "## 4. Training Loop with 20+ Iterations\n"
   ]
  },
  {
   "cell_type": "code",
   "execution_count": 22,
   "id": "6da3d507",
   "metadata": {},
   "outputs": [
    {
     "name": "stdout",
     "output_type": "stream",
     "text": [
      "🚀 Starting training (≥20 iters)\n",
      "📊 Samples: 9387, Features: 21\n",
      "⚡ Iter 1: Random Forest (Round 1)\n",
      "   Train F1: 0.9663, Val F1: 0.9596, Time: 0.25s\n",
      "⚡ Iter 2: Gradient Boosting (Round 1)\n",
      "   Train F1: 0.9655, Val F1: 0.9594, Time: 4.64s\n",
      "⚡ Iter 3: Logistic Regression (Round 1)\n",
      "   Train F1: 0.8151, Val F1: 0.8061, Time: 1.33s\n",
      "⚡ Iter 4: SVM (Round 1)\n",
      "   Train F1: 0.8177, Val F1: 0.8201, Time: 1.77s\n",
      "⚡ Iter 5: Random Forest (Round 2)\n",
      "   Train F1: 0.9665, Val F1: 0.9595, Time: 0.12s\n",
      "⚡ Iter 6: Gradient Boosting (Round 2)\n",
      "   Train F1: 0.9493, Val F1: 0.9444, Time: 2.54s\n",
      "⚡ Iter 7: Logistic Regression (Round 2)\n",
      "   Train F1: 0.8151, Val F1: 0.8061, Time: 1.15s\n",
      "⚡ Iter 8: SVM (Round 2)\n",
      "   Train F1: 0.8177, Val F1: 0.8201, Time: 1.70s\n",
      "⚡ Iter 9: Random Forest (Round 3)\n",
      "   Train F1: 0.9663, Val F1: 0.9583, Time: 0.23s\n",
      "⚡ Iter 10: Gradient Boosting (Round 3)\n",
      "   Train F1: 0.6960, Val F1: 0.6993, Time: 2.41s\n",
      "⚡ Iter 11: Logistic Regression (Round 3)\n",
      "   Train F1: 0.7575, Val F1: 0.7498, Time: 0.57s\n",
      "⚡ Iter 12: SVM (Round 3)\n",
      "   Train F1: 0.8177, Val F1: 0.8201, Time: 1.74s\n",
      "⚡ Iter 13: Random Forest (Round 4)\n",
      "   Train F1: 0.9662, Val F1: 0.9567, Time: 0.47s\n",
      "⚡ Iter 14: Gradient Boosting (Round 4)\n",
      "   Train F1: 0.6960, Val F1: 0.6993, Time: 2.50s\n",
      "⚡ Iter 15: Logistic Regression (Round 4)\n",
      "   Train F1: 0.8151, Val F1: 0.8061, Time: 1.32s\n",
      "⚡ Iter 16: SVM (Round 4)\n",
      "   Train F1: 0.8177, Val F1: 0.8201, Time: 1.72s\n",
      "⚡ Iter 17: Random Forest (Round 5)\n",
      "   Train F1: 0.9575, Val F1: 0.9520, Time: 0.25s\n",
      "⚡ Iter 18: Gradient Boosting (Round 5)\n",
      "   Train F1: 0.9663, Val F1: 0.9620, Time: 9.10s\n",
      "⚡ Iter 19: Logistic Regression (Round 5)\n",
      "   Train F1: 0.8605, Val F1: 0.8559, Time: 2.15s\n",
      "⚡ Iter 20: SVM (Round 5)\n",
      "   Train F1: 0.8177, Val F1: 0.8201, Time: 1.75s\n",
      "✅ Completed 20 iterations\n",
      "🏆 Best model: Gradient Boosting (F1=0.9620)\n"
     ]
    }
   ],
   "source": [
    "from sklearn.model_selection import train_test_split\n",
    "from sklearn.ensemble import RandomForestClassifier, GradientBoostingClassifier\n",
    "from sklearn.linear_model import LogisticRegression\n",
    "from sklearn.svm import SVC\n",
    "import time\n",
    "\n",
    "class InvoiceModelTrainer:\n",
    "    \"\"\"Train invoice extraction models with multiple iterations\"\"\"\n",
    "    def __init__(self, min_iterations: int = 20):\n",
    "        self.min_iterations = min_iterations\n",
    "        self.training_history = []\n",
    "        self.best_model = None\n",
    "        self.best_f1_score = 0.0\n",
    "        self.models = {\n",
    "            'Random Forest':      RandomForestClassifier(n_estimators=100, random_state=42),\n",
    "            'Gradient Boosting':  GradientBoostingClassifier(n_estimators=100, random_state=42),\n",
    "            'Logistic Regression':LogisticRegression(max_iter=1000, random_state=42),\n",
    "            'SVM':                SVC(kernel='rbf', random_state=42)\n",
    "        }\n",
    "\n",
    "    def train_iteration(self, X_train, X_val, y_train, y_val, model_name:str, iteration:int):\n",
    "        start = time.time()\n",
    "        mdl = self.models[model_name]\n",
    "        mdl.fit(X_train,y_train)\n",
    "        y_tr = mdl.predict(X_train)\n",
    "        y_vl = mdl.predict(X_val)\n",
    "        tr_f1 = f1_score(y_train,y_tr,average='weighted')\n",
    "        vl_f1 = f1_score(y_val  ,y_vl,average='weighted')\n",
    "        elapsed = time.time()-start\n",
    "        self.training_history.append({\n",
    "            'iteration': iteration,\n",
    "            'model': model_name,\n",
    "            'train_f1': tr_f1,\n",
    "            'val_f1':   vl_f1,\n",
    "            'training_time': elapsed\n",
    "        })\n",
    "        if vl_f1>self.best_f1_score:\n",
    "            self.best_f1_score = vl_f1\n",
    "            self.best_model = (model_name, mdl)\n",
    "\n",
    "    def _randomize_model_params(self, name:str):\n",
    "        if name=='Random Forest':\n",
    "            self.models[name]=RandomForestClassifier(\n",
    "                n_estimators=np.random.choice([50,100,200]),\n",
    "                max_depth   =np.random.choice([10,20,None]),\n",
    "                random_state=np.random.randint(1,100)\n",
    "            )\n",
    "        elif name=='Gradient Boosting':\n",
    "            self.models[name]=GradientBoostingClassifier(\n",
    "                n_estimators  =np.random.choice([50,100,200]),\n",
    "                learning_rate=np.random.choice([0.1,0.2,0.3]),\n",
    "                random_state =np.random.randint(1,100)\n",
    "            )\n",
    "        elif name=='Logistic Regression':\n",
    "            self.models[name]=LogisticRegression(\n",
    "                C            =np.random.choice([0.1,1.0,10.0]),\n",
    "                max_iter     =1000,\n",
    "                random_state =np.random.randint(1,100)\n",
    "            )\n",
    "\n",
    "    def run_training_iterations(self, X, y, test_size:float=0.2):\n",
    "        print(f\"🚀 Starting training (≥{self.min_iterations} iters)\")\n",
    "        print(f\"📊 Samples: {len(X)}, Features: {X.shape[1]}\")\n",
    "        X_tr,X_vl,y_tr,y_vl = train_test_split(\n",
    "            X,y,test_size=test_size,random_state=42,stratify=y\n",
    "        )\n",
    "        it=0\n",
    "        for rnd in range(5):\n",
    "            for name in self.models:\n",
    "                it+=1\n",
    "                print(f\"⚡ Iter {it}: {name} (Round {rnd+1})\")\n",
    "                if it>4:\n",
    "                    self._randomize_model_params(name)\n",
    "                self.train_iteration(X_tr,X_vl,y_tr,y_vl,name,it)\n",
    "                last=self.training_history[-1]\n",
    "                print(f\"   Train F1: {last['train_f1']:.4f}, Val F1: {last['val_f1']:.4f}, Time: {last['training_time']:.2f}s\")\n",
    "                if it>=self.min_iterations and last['val_f1']>0.9:\n",
    "                    print(f\"🎯 Target achieved at iter {it}\")\n",
    "                    break\n",
    "            if it>=self.min_iterations:\n",
    "                break\n",
    "        print(f\"✅ Completed {it} iterations\")\n",
    "        print(f\"🏆 Best model: {self.best_model[0]} (F1={self.best_f1_score:.4f})\")\n",
    "        return self.training_history\n",
    "\n",
    "trainer = InvoiceModelTrainer(min_iterations=20)\n",
    "training_history = trainer.run_training_iterations(X_features, y_encoded)\n"
   ]
  },
  {
   "cell_type": "markdown",
   "id": "3d21d219",
   "metadata": {},
   "source": [
    "## 5. Training Results Analysis\n"
   ]
  },
  {
   "cell_type": "code",
   "execution_count": 23,
   "id": "140dbaa5",
   "metadata": {},
   "outputs": [
    {
     "name": "stdout",
     "output_type": "stream",
     "text": [
      "📈 Summary:\n",
      " • Total iterations: 20\n",
      " • Best val F1: 0.9620\n",
      " • Avg val F1: 0.8587\n",
      " • # models >0.9: 8\n"
     ]
    },
    {
     "data": {
      "image/png": "[encoded data removed]",
      "text/plain": [
       "<Figure size 800x400 with 1 Axes>"
      ]
     },
     "metadata": {},
     "output_type": "display_data"
    }
   ],
   "source": [
    "# %%\n",
    "df_history = pd.DataFrame(training_history)\n",
    "\n",
    "print(\"📈 Summary:\")\n",
    "print(f\" • Total iterations: {len(df_history)}\")\n",
    "print(f\" • Best val F1: {df_history['val_f1'].max():.4f}\")\n",
    "print(f\" • Avg val F1: {df_history['val_f1'].mean():.4f}\")\n",
    "print(f\" • # models >0.9: {(df_history['val_f1']>0.9).sum()}\")\n",
    "\n",
    "plt.figure(figsize=(8,4))\n",
    "plt.plot(df_history['iteration'], df_history['val_f1'], marker='o')\n",
    "plt.axhline(0.9, linestyle='--', label='Target F1=0.9')\n",
    "plt.xlabel('Iteration')\n",
    "plt.ylabel('Validation F1')\n",
    "plt.title('F1 Progression')\n",
    "plt.legend()\n",
    "plt.show()\n"
   ]
  },
  {
   "cell_type": "markdown",
   "id": "804caa27",
   "metadata": {},
   "source": [
    "## 6. Save Training Results\n"
   ]
  },
  {
   "cell_type": "code",
   "execution_count": 24,
   "id": "5a24755b",
   "metadata": {},
   "outputs": [
    {
     "name": "stdout",
     "output_type": "stream",
     "text": [
      "✅ Artifacts saved under ../models\n"
     ]
    }
   ],
   "source": [
    "import pickle\n",
    "from datetime import datetime\n",
    "\n",
    "os.makedirs('../models', exist_ok=True)\n",
    "\n",
    "# Save best model\n",
    "name, mdl = trainer.best_model\n",
    "with open(f'../models/best_model_{name.lower().replace(\" \",\"_\")}.pkl','wb') as f:\n",
    "    pickle.dump(mdl, f)\n",
    "\n",
    "# Save feature extractor & tokenizer\n",
    "with open('../models/feature_extractor.pkl','wb') as f:\n",
    "    pickle.dump(feature_extractor, f)\n",
    "with open('../models/tokenizer.pkl','wb') as f:\n",
    "    pickle.dump(tokenizer, f)\n",
    "\n",
    "# Save history\n",
    "with open('../models/training_history.json','w',encoding='utf-8') as f:\n",
    "    json.dump(training_history, f, ensure_ascii=False, indent=2)\n",
    "\n",
    "# Build JSON-serializable summary\n",
    "avg_f1      = float(df_history['val_f1'].mean())\n",
    "std_f1      = float(df_history['val_f1'].std())\n",
    "models_over = int((df_history['val_f1']>0.9).sum())\n",
    "training_summary = {\n",
    "    'total_iterations':      len(training_history),\n",
    "    'best_model':            {'name': name, 'f1_score': float(trainer.best_f1_score)},\n",
    "    'target_achieved':       bool(trainer.best_f1_score>0.9),\n",
    "    'average_f1':            avg_f1,\n",
    "    'std_f1':                std_f1,\n",
    "    'models_over_target':    models_over,\n",
    "    'training_completed_at': datetime.now().isoformat(),\n",
    "    'dataset_size':          X_features.shape[0],\n",
    "    'feature_count':         X_features.shape[1],\n",
    "    'label_classes':         feature_extractor.label_encoder.classes_.tolist()\n",
    "}\n",
    "with open('../models/training_summary.json','w',encoding='utf-8') as f:\n",
    "    json.dump(training_summary, f, ensure_ascii=False, indent=2)\n",
    "\n",
    "print(\"✅ Artifacts saved under ../models\")\n"
   ]
  }
 ],
 "metadata": {
  "kernelspec": {
   "display_name": "deep_learning",
   "language": "python",
   "name": "python3"
  },
  "language_info": {
   "codemirror_mode": {
    "name": "ipython",
    "version": 3
   },
   "file_extension": ".py",
   "mimetype": "text/x-python",
   "name": "python",
   "nbconvert_exporter": "python",
   "pygments_lexer": "ipython3",
   "version": "3.10.16"
  }
 },
 "nbformat": 4,
 "nbformat_minor": 5
}
